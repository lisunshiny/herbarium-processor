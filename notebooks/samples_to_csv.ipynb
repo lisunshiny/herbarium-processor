{
 "cells": [
  {
   "cell_type": "code",
   "execution_count": null,
   "id": "0",
   "metadata": {},
   "outputs": [],
   "source": [
    "\"\"\"\n",
    "Batch Gemini Inference and CSV Aggregator\n",
    "\n",
    "This notebook takes either a number of samples or a list of specific sample filenames,\n",
    "calls `run_gemini` on each sample, collects the outputs, and generates a single CSV file\n",
    "aggregating all results.\n",
    "\n",
    "NOTE: run_gemini.ipynb must be in the same directory as this notebook\n",
    "\"\"\"\n",
    "\n",
    "num_to_sample = 10\n",
    "path_to_sample_from = \"../data/img\"\n",
    "sampled_paths = None"
   ]
  },
  {
   "cell_type": "code",
   "execution_count": null,
   "id": "1",
   "metadata": {},
   "outputs": [],
   "source": [
    "import os\n",
    "import random\n",
    "\n",
    "# If sampled_paths is provided, use it directly\n",
    "if sampled_paths is None:\n",
    "    all_files = [\n",
    "        f for f in os.listdir(path_to_sample_from)\n",
    "        if f.lower().endswith(('.jpg', '.jpeg'))\n",
    "    ]\n",
    "\n",
    "    # Randomly sample the desired number of files\n",
    "    sampled_files = random.sample(all_files, min(num_to_sample, len(all_files)))\n",
    "\n",
    "    # Save the full paths to a list\n",
    "    sampled_paths = [os.path.join(path_to_sample_from, f) for f in sampled_files]\n",
    "\n",
    "print(\"Will generate CSV based on sampled files:\")\n",
    "for path in sampled_paths:\n",
    "    print(path)"
   ]
  },
  {
   "cell_type": "code",
   "execution_count": null,
   "id": "2",
   "metadata": {},
   "outputs": [],
   "source": [
    "import importlib\n",
    "import herbarium_label_extractor\n",
    "importlib.reload(herbarium_label_extractor)\n",
    "from herbarium_label_extractor import HerbariumLabelExtractor\n",
    "\n",
    "with open('prompts/system_instructions_no_ocr.md') as f:\n",
    "    sys_instr = f.read()\n",
    "with open('prompts/few_shot_prompt_no_ocr.md') as f:\n",
    "    few_shot = f.read()\n",
    "\n",
    "extractor = HerbariumLabelExtractor(\n",
    "    system_instructions=sys_instr,\n",
    "    few_shot_prompt=few_shot,\n",
    "    few_shot_image_paths=[\n",
    "        '../img/IMG_2708.jpg',\n",
    "    ],\n",
    "    output_dir='../tmp'\n",
    ")\n",
    "\n",
    "for img_path in [\"../img/IMG_2713.jpg\"]:\n",
    "    result = extractor.classify(img_path)\n",
    "    print(result)\n"
   ]
  }
 ],
 "metadata": {
  "kernelspec": {
   "display_name": "3.9.9",
   "language": "python",
   "name": "python3"
  },
  "language_info": {
   "codemirror_mode": {
    "name": "ipython",
    "version": 3
   },
   "file_extension": ".py",
   "mimetype": "text/x-python",
   "name": "python",
   "nbconvert_exporter": "python",
   "pygments_lexer": "ipython3",
   "version": "3.9.9"
  }
 },
 "nbformat": 4,
 "nbformat_minor": 5
}
