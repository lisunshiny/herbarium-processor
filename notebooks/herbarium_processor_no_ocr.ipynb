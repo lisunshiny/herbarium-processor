{
 "cells": [
  {
   "cell_type": "code",
   "execution_count": null,
   "metadata": {},
   "outputs": [],
   "source": [
    "# get the image to process\n",
    "# todo: select 10 random images from other pile, possibly batch\n",
    "filename = \"IMG_2712\""
   ]
  },
  {
   "cell_type": "code",
   "execution_count": null,
   "metadata": {},
   "outputs": [],
   "source": [
    "import base64\n",
    "import google.generativeai as genai\n",
    "\n",
    "# load the system instructions and prompt from markdown files\n",
    "with open('prompts/system_instructions_no_ocr.md', 'r') as f:\n",
    "   system_instructions = f.read()\n",
    "with open('prompts/few_shot_prompt_no_ocr.md', 'r') as f:\n",
    "   prompt = f.read()\n",
    "\n",
    "\n",
    "# Read the image as bytes and encode to base64\n",
    "def make_image_part(image_path):\n",
    "    with open(image_path, \"rb\") as img_file:\n",
    "        img_bytes = img_file.read()\n",
    "    return {\n",
    "        \"mime_type\": \"image/jpeg\",\n",
    "        \"data\": img_bytes,\n",
    "    }\n",
    "\n",
    "\n",
    "example_part = make_image_part(\"../img/IMG_2708.jpg\")\n",
    "classify_part = make_image_part(f\"../img/{filename}.jpg\")\n"
   ]
  },
  {
   "cell_type": "code",
   "execution_count": null,
   "metadata": {},
   "outputs": [],
   "source": [
    "import google.generativeai as genai\n",
    "from dotenv import load_dotenv\n",
    "import os\n",
    "\n",
    "load_dotenv()\n",
    "\n",
    "genai.configure(api_key=os.getenv('GOOGLE_API_KEY'))\n",
    "\n",
    "model_name = \"gemini-2.5-pro-preview-05-06\"\n",
    "\n",
    "model = genai.GenerativeModel(\n",
    "    model_name,\n",
    "    system_instruction=system_instructions\n",
    ")\n",
    "response = model.generate_content(contents=[example_part, classify_part, prompt])\n",
    "\n"
   ]
  },
  {
   "cell_type": "code",
   "execution_count": null,
   "metadata": {},
   "outputs": [],
   "source": [
    "import re\n",
    "import json\n",
    "\n",
    "response_text = response.candidates[0].content.parts[0].text\n",
    "# Convert response to JSON-serializable format\n",
    "response_serializable = re.sub(r'^```json\\s*|```$', '', response_text.strip())\n",
    "\n",
    "# Save to file\n",
    "output_path = os.path.join(os.path.abspath('..'), \"tmp\", \"herbarium_processed_output\" + filename + \".json\")\n",
    "\n",
    "with open(output_path, 'w') as f:\n",
    "    json.dump(response_serializable, f, indent=2)\n",
    "\n",
    "print(f\"Saved output to {output_path}\")\n",
    "print(response_serializable)"
   ]
  }
 ],
 "metadata": {
  "kernelspec": {
   "display_name": "3.9.9",
   "language": "python",
   "name": "python3"
  },
  "language_info": {
   "codemirror_mode": {
    "name": "ipython",
    "version": 3
   },
   "file_extension": ".py",
   "mimetype": "text/x-python",
   "name": "python",
   "nbconvert_exporter": "python",
   "pygments_lexer": "ipython3",
   "version": "3.9.9"
  }
 },
 "nbformat": 4,
 "nbformat_minor": 2
}
