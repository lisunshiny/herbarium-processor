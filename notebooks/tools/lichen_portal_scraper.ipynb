{
 "cells": [
  {
   "cell_type": "markdown",
   "id": "0",
   "metadata": {},
   "source": [
    "This notebook is a tool that scrapes images from the lichen portal in order to generate training data.\n",
    "\n"
   ]
  },
  {
   "cell_type": "code",
   "execution_count": null,
   "id": "1",
   "metadata": {},
   "outputs": [],
   "source": [
    "# SETUP\n",
    "I_KNOW_WHAT_I_AM_DOING = False\n",
    "I_KNOW_THIS_IS_AN_INTERNAL_TOOL = False\n",
    "\n",
    "csv_path = '../../data/nov_4_24foliicolousverification.csv'\n",
    "num_rows_to_import = 10 # Do not set this very high please\n",
    "randomize_columns = True # highly recommended"
   ]
  },
  {
   "cell_type": "code",
   "execution_count": null,
   "id": "2",
   "metadata": {},
   "outputs": [],
   "source": [
    "import pandas as pd\n",
    "import os\n",
    "\n",
    "if not I_KNOW_THIS_IS_AN_INTERNAL_TOOL or not I_KNOW_WHAT_I_AM_DOING:\n",
    "    raise RuntimeError(\"i stop now\")\n",
    "\n",
    "# Step 1: fetch ID\n",
    "\n",
    "# Load the CSV into a DataFrame\n",
    "df = pd.read_csv(csv_path, encoding='ISO-8859-1')\n",
    "\n",
    "if randomize_columns:\n",
    "    # Shuffle all rows in the DataFrame\n",
    "    df = df.sample(frac=1).reset_index(drop=True)\n",
    "\n",
    "# Get list of IDs\n",
    "if 'id' not in df.columns:\n",
    "    raise ValueError(\"'id' column not found.\")\n",
    "all_ids = df['id'].dropna().astype(str).tolist()\n",
    "\n",
    "# ilter out IDs that already have image files\n",
    "pending_ids = []\n",
    "for id_val in all_ids:\n",
    "    image_path = os.path.join('../../data/img', f\"{id_val}.jpg\")\n",
    "\n",
    "    if not os.path.exists(image_path):\n",
    "        pending_ids.append(id_val)\n",
    "    if len(pending_ids) >= num_rows_to_import:\n",
    "        break\n",
    "\n",
    "\n",
    "# ✅ Use `pending_ids` for your scraping loop\n",
    "print(\"IDs to process:\", pending_ids)\n"
   ]
  },
  {
   "cell_type": "code",
   "execution_count": null,
   "id": "3",
   "metadata": {},
   "outputs": [],
   "source": [
    "import requests\n",
    "from bs4 import BeautifulSoup\n",
    "\n",
    "for occid in pending_ids:\n",
    "    try:\n",
    "        url = f\"https://lichenportal.org/portal/collections/individual/index.php?occid={occid}\"\n",
    "\n",
    "        # Step 3: Request the page\n",
    "        response = requests.get(url)\n",
    "        response.raise_for_status()  # Raise an error if request failed\n",
    "\n",
    "        # Step 4: Parse HTML\n",
    "        soup = BeautifulSoup(response.text, 'html.parser')\n",
    "        thumb_div = soup.find(id='thumbnail-div')\n",
    "\n",
    "        if thumb_div and thumb_div.a:\n",
    "            href = thumb_div.a['href']\n",
    "            if href.startswith('http'):\n",
    "                absolute_url = href  # already absolute\n",
    "            else:\n",
    "                absolute_url = f\"https://lichenportal.org{href}\"  # relative path\n",
    "\n",
    "            print(\"Image URL:\", absolute_url)\n",
    "        else:\n",
    "            print(\"Image URL not found for id \" + occid)\n",
    "            continue\n",
    "\n",
    "\n",
    "        # save the image\n",
    "        img_data = requests.get(absolute_url).content\n",
    "        with open(f\"../../data/img/{occid}.jpg\", 'wb') as f:\n",
    "            f.write(img_data)\n",
    "\n",
    "        print(f\"Saved image as {occid}.jpg\")\n",
    "\n",
    "        \n",
    "    except Exception as e:\n",
    "        print(f\"[{occid}] Error fetching page: {e}\")\n",
    "\n"
   ]
  }
 ],
 "metadata": {
  "kernelspec": {
   "display_name": "3.9.9",
   "language": "python",
   "name": "python3"
  },
  "language_info": {
   "codemirror_mode": {
    "name": "ipython",
    "version": 3
   },
   "file_extension": ".py",
   "mimetype": "text/x-python",
   "name": "python",
   "nbconvert_exporter": "python",
   "pygments_lexer": "ipython3",
   "version": "3.9.9"
  }
 },
 "nbformat": 4,
 "nbformat_minor": 5
}
